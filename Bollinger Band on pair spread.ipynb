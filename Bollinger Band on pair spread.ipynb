{
 "cells": [
  {
   "cell_type": "markdown",
   "metadata": {},
   "source": []
  },
  {
   "cell_type": "markdown",
   "metadata": {},
   "source": [
    "# Basic mean reversion pair trading on the stocks"
   ]
  },
  {
   "cell_type": "code",
   "execution_count": 2,
   "metadata": {},
   "outputs": [],
   "source": [
    "import numpy as np\n",
    "import pandas as pd  \n",
    "import matplotlib.pyplot as plt  \n",
    "%matplotlib inline"
   ]
  },
  {
   "cell_type": "code",
   "execution_count": 3,
   "metadata": {},
   "outputs": [],
   "source": [
    "x = pd.read_csv('HDFC.csv',index_col=0)['LAST_PRICE']\n",
    "y = pd.read_csv('HDFCB.csv',index_col=0)['LAST_PRICE']    \n",
    "\n",
    "df = pd.concat([y,x], axis=1, sort=True)\n",
    "df.columns = ['HDFCB','HDFC']\n",
    "df=df.fillna(method='ffill')"
   ]
  },
  {
   "cell_type": "code",
   "execution_count": 4,
   "metadata": {},
   "outputs": [],
   "source": [
    "from statsmodels.api import OLS\n",
    "model = OLS(df.HDFCB.iloc[:243], df.HDFC.iloc[:243])\n",
    "model = model.fit() \n",
    "df['spread'] = df.HDFCB - model.params[0] * df.HDFC"
   ]
  },
  {
   "cell_type": "markdown",
   "metadata": {},
   "source": [
    "## Moving average and moving standard deviation"
   ]
  },
  {
   "cell_type": "code",
   "execution_count": 5,
   "metadata": {},
   "outputs": [
    {
     "data": {
      "text/html": [
       "<div>\n",
       "<style scoped>\n",
       "    .dataframe tbody tr th:only-of-type {\n",
       "        vertical-align: middle;\n",
       "    }\n",
       "\n",
       "    .dataframe tbody tr th {\n",
       "        vertical-align: top;\n",
       "    }\n",
       "\n",
       "    .dataframe thead th {\n",
       "        text-align: right;\n",
       "    }\n",
       "</style>\n",
       "<table border=\"1\" class=\"dataframe\">\n",
       "  <thead>\n",
       "    <tr style=\"text-align: right;\">\n",
       "      <th></th>\n",
       "      <th>HDFCB</th>\n",
       "      <th>HDFC</th>\n",
       "      <th>spread</th>\n",
       "      <th>moving_average</th>\n",
       "      <th>moving_std_dev</th>\n",
       "    </tr>\n",
       "  </thead>\n",
       "  <tbody>\n",
       "    <tr>\n",
       "      <th>01/01/18 09:07</th>\n",
       "      <td>1872.70</td>\n",
       "      <td>1710.00</td>\n",
       "      <td>-12.909482</td>\n",
       "      <td>NaN</td>\n",
       "      <td>NaN</td>\n",
       "    </tr>\n",
       "    <tr>\n",
       "      <th>01/01/18 09:14</th>\n",
       "      <td>1872.45</td>\n",
       "      <td>1710.50</td>\n",
       "      <td>-13.710830</td>\n",
       "      <td>NaN</td>\n",
       "      <td>NaN</td>\n",
       "    </tr>\n",
       "    <tr>\n",
       "      <th>01/01/18 09:15</th>\n",
       "      <td>1873.75</td>\n",
       "      <td>1707.30</td>\n",
       "      <td>-8.882204</td>\n",
       "      <td>NaN</td>\n",
       "      <td>NaN</td>\n",
       "    </tr>\n",
       "    <tr>\n",
       "      <th>01/01/18 09:16</th>\n",
       "      <td>1872.00</td>\n",
       "      <td>1706.15</td>\n",
       "      <td>-9.364104</td>\n",
       "      <td>NaN</td>\n",
       "      <td>NaN</td>\n",
       "    </tr>\n",
       "    <tr>\n",
       "      <th>01/01/18 09:17</th>\n",
       "      <td>1873.80</td>\n",
       "      <td>1703.50</td>\n",
       "      <td>-4.641961</td>\n",
       "      <td>NaN</td>\n",
       "      <td>NaN</td>\n",
       "    </tr>\n",
       "    <tr>\n",
       "      <th>01/01/18 09:18</th>\n",
       "      <td>1872.70</td>\n",
       "      <td>1704.05</td>\n",
       "      <td>-6.348443</td>\n",
       "      <td>NaN</td>\n",
       "      <td>NaN</td>\n",
       "    </tr>\n",
       "    <tr>\n",
       "      <th>01/01/18 09:19</th>\n",
       "      <td>1872.90</td>\n",
       "      <td>1704.15</td>\n",
       "      <td>-6.258713</td>\n",
       "      <td>NaN</td>\n",
       "      <td>NaN</td>\n",
       "    </tr>\n",
       "  </tbody>\n",
       "</table>\n",
       "</div>"
      ],
      "text/plain": [
       "                  HDFCB     HDFC     spread  moving_average  moving_std_dev\n",
       "01/01/18 09:07  1872.70  1710.00 -12.909482             NaN             NaN\n",
       "01/01/18 09:14  1872.45  1710.50 -13.710830             NaN             NaN\n",
       "01/01/18 09:15  1873.75  1707.30  -8.882204             NaN             NaN\n",
       "01/01/18 09:16  1872.00  1706.15  -9.364104             NaN             NaN\n",
       "01/01/18 09:17  1873.80  1703.50  -4.641961             NaN             NaN\n",
       "01/01/18 09:18  1872.70  1704.05  -6.348443             NaN             NaN\n",
       "01/01/18 09:19  1872.90  1704.15  -6.258713             NaN             NaN"
      ]
     },
     "execution_count": 5,
     "metadata": {},
     "output_type": "execute_result"
    }
   ],
   "source": [
    "# Moving Average\n",
    "df['moving_average'] = df.spread.rolling(30).mean()\n",
    "# Moving Standard Deviation\n",
    "df['moving_std_dev'] = df.spread.rolling(30).std()\n",
    "df.head(7)"
   ]
  },
  {
   "cell_type": "markdown",
   "metadata": {},
   "source": [
    "## Upper band and lower band"
   ]
  },
  {
   "cell_type": "code",
   "execution_count": 6,
   "metadata": {},
   "outputs": [],
   "source": [
    "df['upper_band'] = df.moving_average + 2*df.moving_std_dev\n",
    "df['lower_band'] = df.moving_average - 2*df.moving_std_dev"
   ]
  },
  {
   "cell_type": "markdown",
   "metadata": {},
   "source": [
    "## Long positions"
   ]
  },
  {
   "cell_type": "code",
   "execution_count": 7,
   "metadata": {},
   "outputs": [],
   "source": [
    "df['long_entry'] = df.spread < df.lower_band   \n",
    "df['long_exit'] = df.spread >= df.moving_average\n",
    "\n",
    "df['positions_long'] = np.nan  \n",
    "df.loc[df.long_entry,'positions_long']= 1  \n",
    "df.loc[df.long_exit,'positions_long']= 0  \n",
    "\n",
    "df.positions_long = df.positions_long.fillna(method='ffill')  "
   ]
  },
  {
   "cell_type": "markdown",
   "metadata": {},
   "source": [
    "## Short positions"
   ]
  },
  {
   "cell_type": "code",
   "execution_count": 8,
   "metadata": {},
   "outputs": [],
   "source": [
    "df['short_entry'] = df.spread > df.upper_band   \n",
    "df['short_exit'] = df.spread <= df.moving_average\n",
    "\n",
    "df['positions_short'] = np.nan  \n",
    "df.loc[df.short_entry,'positions_short']= -1  \n",
    "df.loc[df.short_exit,'positions_short']= 0  \n",
    "\n",
    "df.positions_short = df.positions_short.fillna(method='ffill')  \n"
   ]
  },
  {
   "cell_type": "markdown",
   "metadata": {},
   "source": [
    "## Positions"
   ]
  },
  {
   "cell_type": "code",
   "execution_count": 9,
   "metadata": {},
   "outputs": [
    {
     "data": {
      "text/html": [
       "<div>\n",
       "<style scoped>\n",
       "    .dataframe tbody tr th:only-of-type {\n",
       "        vertical-align: middle;\n",
       "    }\n",
       "\n",
       "    .dataframe tbody tr th {\n",
       "        vertical-align: top;\n",
       "    }\n",
       "\n",
       "    .dataframe thead th {\n",
       "        text-align: right;\n",
       "    }\n",
       "</style>\n",
       "<table border=\"1\" class=\"dataframe\">\n",
       "  <thead>\n",
       "    <tr style=\"text-align: right;\">\n",
       "      <th></th>\n",
       "      <th>HDFCB</th>\n",
       "      <th>HDFC</th>\n",
       "      <th>spread</th>\n",
       "      <th>moving_average</th>\n",
       "      <th>moving_std_dev</th>\n",
       "      <th>upper_band</th>\n",
       "      <th>lower_band</th>\n",
       "      <th>long_entry</th>\n",
       "      <th>long_exit</th>\n",
       "      <th>positions_long</th>\n",
       "      <th>short_entry</th>\n",
       "      <th>short_exit</th>\n",
       "      <th>positions_short</th>\n",
       "      <th>positions</th>\n",
       "    </tr>\n",
       "  </thead>\n",
       "  <tbody>\n",
       "    <tr>\n",
       "      <th>01/01/18 09:07</th>\n",
       "      <td>1872.70</td>\n",
       "      <td>1710.00</td>\n",
       "      <td>-12.909482</td>\n",
       "      <td>NaN</td>\n",
       "      <td>NaN</td>\n",
       "      <td>NaN</td>\n",
       "      <td>NaN</td>\n",
       "      <td>False</td>\n",
       "      <td>False</td>\n",
       "      <td>NaN</td>\n",
       "      <td>False</td>\n",
       "      <td>False</td>\n",
       "      <td>NaN</td>\n",
       "      <td>NaN</td>\n",
       "    </tr>\n",
       "    <tr>\n",
       "      <th>01/01/18 09:14</th>\n",
       "      <td>1872.45</td>\n",
       "      <td>1710.50</td>\n",
       "      <td>-13.710830</td>\n",
       "      <td>NaN</td>\n",
       "      <td>NaN</td>\n",
       "      <td>NaN</td>\n",
       "      <td>NaN</td>\n",
       "      <td>False</td>\n",
       "      <td>False</td>\n",
       "      <td>NaN</td>\n",
       "      <td>False</td>\n",
       "      <td>False</td>\n",
       "      <td>NaN</td>\n",
       "      <td>NaN</td>\n",
       "    </tr>\n",
       "    <tr>\n",
       "      <th>01/01/18 09:15</th>\n",
       "      <td>1873.75</td>\n",
       "      <td>1707.30</td>\n",
       "      <td>-8.882204</td>\n",
       "      <td>NaN</td>\n",
       "      <td>NaN</td>\n",
       "      <td>NaN</td>\n",
       "      <td>NaN</td>\n",
       "      <td>False</td>\n",
       "      <td>False</td>\n",
       "      <td>NaN</td>\n",
       "      <td>False</td>\n",
       "      <td>False</td>\n",
       "      <td>NaN</td>\n",
       "      <td>NaN</td>\n",
       "    </tr>\n",
       "    <tr>\n",
       "      <th>01/01/18 09:16</th>\n",
       "      <td>1872.00</td>\n",
       "      <td>1706.15</td>\n",
       "      <td>-9.364104</td>\n",
       "      <td>NaN</td>\n",
       "      <td>NaN</td>\n",
       "      <td>NaN</td>\n",
       "      <td>NaN</td>\n",
       "      <td>False</td>\n",
       "      <td>False</td>\n",
       "      <td>NaN</td>\n",
       "      <td>False</td>\n",
       "      <td>False</td>\n",
       "      <td>NaN</td>\n",
       "      <td>NaN</td>\n",
       "    </tr>\n",
       "    <tr>\n",
       "      <th>01/01/18 09:17</th>\n",
       "      <td>1873.80</td>\n",
       "      <td>1703.50</td>\n",
       "      <td>-4.641961</td>\n",
       "      <td>NaN</td>\n",
       "      <td>NaN</td>\n",
       "      <td>NaN</td>\n",
       "      <td>NaN</td>\n",
       "      <td>False</td>\n",
       "      <td>False</td>\n",
       "      <td>NaN</td>\n",
       "      <td>False</td>\n",
       "      <td>False</td>\n",
       "      <td>NaN</td>\n",
       "      <td>NaN</td>\n",
       "    </tr>\n",
       "    <tr>\n",
       "      <th>01/01/18 09:18</th>\n",
       "      <td>1872.70</td>\n",
       "      <td>1704.05</td>\n",
       "      <td>-6.348443</td>\n",
       "      <td>NaN</td>\n",
       "      <td>NaN</td>\n",
       "      <td>NaN</td>\n",
       "      <td>NaN</td>\n",
       "      <td>False</td>\n",
       "      <td>False</td>\n",
       "      <td>NaN</td>\n",
       "      <td>False</td>\n",
       "      <td>False</td>\n",
       "      <td>NaN</td>\n",
       "      <td>NaN</td>\n",
       "    </tr>\n",
       "    <tr>\n",
       "      <th>01/01/18 09:19</th>\n",
       "      <td>1872.90</td>\n",
       "      <td>1704.15</td>\n",
       "      <td>-6.258713</td>\n",
       "      <td>NaN</td>\n",
       "      <td>NaN</td>\n",
       "      <td>NaN</td>\n",
       "      <td>NaN</td>\n",
       "      <td>False</td>\n",
       "      <td>False</td>\n",
       "      <td>NaN</td>\n",
       "      <td>False</td>\n",
       "      <td>False</td>\n",
       "      <td>NaN</td>\n",
       "      <td>NaN</td>\n",
       "    </tr>\n",
       "    <tr>\n",
       "      <th>01/01/18 09:20</th>\n",
       "      <td>1876.40</td>\n",
       "      <td>1704.90</td>\n",
       "      <td>-3.585734</td>\n",
       "      <td>NaN</td>\n",
       "      <td>NaN</td>\n",
       "      <td>NaN</td>\n",
       "      <td>NaN</td>\n",
       "      <td>False</td>\n",
       "      <td>False</td>\n",
       "      <td>NaN</td>\n",
       "      <td>False</td>\n",
       "      <td>False</td>\n",
       "      <td>NaN</td>\n",
       "      <td>NaN</td>\n",
       "    </tr>\n",
       "    <tr>\n",
       "      <th>01/01/18 09:21</th>\n",
       "      <td>1876.05</td>\n",
       "      <td>1705.00</td>\n",
       "      <td>-4.046004</td>\n",
       "      <td>NaN</td>\n",
       "      <td>NaN</td>\n",
       "      <td>NaN</td>\n",
       "      <td>NaN</td>\n",
       "      <td>False</td>\n",
       "      <td>False</td>\n",
       "      <td>NaN</td>\n",
       "      <td>False</td>\n",
       "      <td>False</td>\n",
       "      <td>NaN</td>\n",
       "      <td>NaN</td>\n",
       "    </tr>\n",
       "    <tr>\n",
       "      <th>01/01/18 09:22</th>\n",
       "      <td>1876.30</td>\n",
       "      <td>1704.05</td>\n",
       "      <td>-2.748443</td>\n",
       "      <td>NaN</td>\n",
       "      <td>NaN</td>\n",
       "      <td>NaN</td>\n",
       "      <td>NaN</td>\n",
       "      <td>False</td>\n",
       "      <td>False</td>\n",
       "      <td>NaN</td>\n",
       "      <td>False</td>\n",
       "      <td>False</td>\n",
       "      <td>NaN</td>\n",
       "      <td>NaN</td>\n",
       "    </tr>\n",
       "  </tbody>\n",
       "</table>\n",
       "</div>"
      ],
      "text/plain": [
       "                  HDFCB     HDFC     spread  moving_average  moving_std_dev  \\\n",
       "01/01/18 09:07  1872.70  1710.00 -12.909482             NaN             NaN   \n",
       "01/01/18 09:14  1872.45  1710.50 -13.710830             NaN             NaN   \n",
       "01/01/18 09:15  1873.75  1707.30  -8.882204             NaN             NaN   \n",
       "01/01/18 09:16  1872.00  1706.15  -9.364104             NaN             NaN   \n",
       "01/01/18 09:17  1873.80  1703.50  -4.641961             NaN             NaN   \n",
       "01/01/18 09:18  1872.70  1704.05  -6.348443             NaN             NaN   \n",
       "01/01/18 09:19  1872.90  1704.15  -6.258713             NaN             NaN   \n",
       "01/01/18 09:20  1876.40  1704.90  -3.585734             NaN             NaN   \n",
       "01/01/18 09:21  1876.05  1705.00  -4.046004             NaN             NaN   \n",
       "01/01/18 09:22  1876.30  1704.05  -2.748443             NaN             NaN   \n",
       "\n",
       "                upper_band  lower_band  long_entry  long_exit  positions_long  \\\n",
       "01/01/18 09:07         NaN         NaN       False      False             NaN   \n",
       "01/01/18 09:14         NaN         NaN       False      False             NaN   \n",
       "01/01/18 09:15         NaN         NaN       False      False             NaN   \n",
       "01/01/18 09:16         NaN         NaN       False      False             NaN   \n",
       "01/01/18 09:17         NaN         NaN       False      False             NaN   \n",
       "01/01/18 09:18         NaN         NaN       False      False             NaN   \n",
       "01/01/18 09:19         NaN         NaN       False      False             NaN   \n",
       "01/01/18 09:20         NaN         NaN       False      False             NaN   \n",
       "01/01/18 09:21         NaN         NaN       False      False             NaN   \n",
       "01/01/18 09:22         NaN         NaN       False      False             NaN   \n",
       "\n",
       "                short_entry  short_exit  positions_short  positions  \n",
       "01/01/18 09:07        False       False              NaN        NaN  \n",
       "01/01/18 09:14        False       False              NaN        NaN  \n",
       "01/01/18 09:15        False       False              NaN        NaN  \n",
       "01/01/18 09:16        False       False              NaN        NaN  \n",
       "01/01/18 09:17        False       False              NaN        NaN  \n",
       "01/01/18 09:18        False       False              NaN        NaN  \n",
       "01/01/18 09:19        False       False              NaN        NaN  \n",
       "01/01/18 09:20        False       False              NaN        NaN  \n",
       "01/01/18 09:21        False       False              NaN        NaN  \n",
       "01/01/18 09:22        False       False              NaN        NaN  "
      ]
     },
     "execution_count": 9,
     "metadata": {},
     "output_type": "execute_result"
    }
   ],
   "source": [
    "df['positions'] = df.positions_long + df.positions_short\n",
    "df.head(10)"
   ]
  },
  {
   "cell_type": "markdown",
   "metadata": {},
   "source": [
    "## Cumulative PNL"
   ]
  },
  {
   "cell_type": "code",
   "execution_count": 10,
   "metadata": {},
   "outputs": [
    {
     "data": {
      "text/html": [
       "<div>\n",
       "<style scoped>\n",
       "    .dataframe tbody tr th:only-of-type {\n",
       "        vertical-align: middle;\n",
       "    }\n",
       "\n",
       "    .dataframe tbody tr th {\n",
       "        vertical-align: top;\n",
       "    }\n",
       "\n",
       "    .dataframe thead th {\n",
       "        text-align: right;\n",
       "    }\n",
       "</style>\n",
       "<table border=\"1\" class=\"dataframe\">\n",
       "  <thead>\n",
       "    <tr style=\"text-align: right;\">\n",
       "      <th></th>\n",
       "      <th>HDFCB</th>\n",
       "      <th>HDFC</th>\n",
       "      <th>spread</th>\n",
       "      <th>moving_average</th>\n",
       "      <th>moving_std_dev</th>\n",
       "      <th>upper_band</th>\n",
       "      <th>lower_band</th>\n",
       "      <th>long_entry</th>\n",
       "      <th>long_exit</th>\n",
       "      <th>positions_long</th>\n",
       "      <th>short_entry</th>\n",
       "      <th>short_exit</th>\n",
       "      <th>positions_short</th>\n",
       "      <th>positions</th>\n",
       "      <th>spread_difference</th>\n",
       "      <th>pnl</th>\n",
       "      <th>cumpnl</th>\n",
       "    </tr>\n",
       "  </thead>\n",
       "  <tbody>\n",
       "    <tr>\n",
       "      <th>31/10/17 15:46</th>\n",
       "      <td>1808.5</td>\n",
       "      <td>1707.4</td>\n",
       "      <td>-74.242473</td>\n",
       "      <td>-71.552407</td>\n",
       "      <td>4.230629</td>\n",
       "      <td>-63.091150</td>\n",
       "      <td>-80.013665</td>\n",
       "      <td>False</td>\n",
       "      <td>False</td>\n",
       "      <td>0.0</td>\n",
       "      <td>False</td>\n",
       "      <td>True</td>\n",
       "      <td>0.0</td>\n",
       "      <td>0.0</td>\n",
       "      <td>0.0</td>\n",
       "      <td>0.0</td>\n",
       "      <td>2174.459585</td>\n",
       "    </tr>\n",
       "    <tr>\n",
       "      <th>31/10/17 15:48</th>\n",
       "      <td>1808.5</td>\n",
       "      <td>1707.4</td>\n",
       "      <td>-74.242473</td>\n",
       "      <td>-71.416796</td>\n",
       "      <td>4.068622</td>\n",
       "      <td>-63.279552</td>\n",
       "      <td>-79.554039</td>\n",
       "      <td>False</td>\n",
       "      <td>False</td>\n",
       "      <td>0.0</td>\n",
       "      <td>False</td>\n",
       "      <td>True</td>\n",
       "      <td>0.0</td>\n",
       "      <td>0.0</td>\n",
       "      <td>0.0</td>\n",
       "      <td>0.0</td>\n",
       "      <td>2174.459585</td>\n",
       "    </tr>\n",
       "    <tr>\n",
       "      <th>31/10/17 15:50</th>\n",
       "      <td>1808.5</td>\n",
       "      <td>1707.4</td>\n",
       "      <td>-74.242473</td>\n",
       "      <td>-71.268103</td>\n",
       "      <td>3.869801</td>\n",
       "      <td>-63.528501</td>\n",
       "      <td>-79.007705</td>\n",
       "      <td>False</td>\n",
       "      <td>False</td>\n",
       "      <td>0.0</td>\n",
       "      <td>False</td>\n",
       "      <td>True</td>\n",
       "      <td>0.0</td>\n",
       "      <td>0.0</td>\n",
       "      <td>0.0</td>\n",
       "      <td>0.0</td>\n",
       "      <td>2174.459585</td>\n",
       "    </tr>\n",
       "    <tr>\n",
       "      <th>31/10/17 15:51</th>\n",
       "      <td>1808.5</td>\n",
       "      <td>1707.4</td>\n",
       "      <td>-74.242473</td>\n",
       "      <td>-71.155527</td>\n",
       "      <td>3.725072</td>\n",
       "      <td>-63.705383</td>\n",
       "      <td>-78.605671</td>\n",
       "      <td>False</td>\n",
       "      <td>False</td>\n",
       "      <td>0.0</td>\n",
       "      <td>False</td>\n",
       "      <td>True</td>\n",
       "      <td>0.0</td>\n",
       "      <td>0.0</td>\n",
       "      <td>0.0</td>\n",
       "      <td>0.0</td>\n",
       "      <td>2174.459585</td>\n",
       "    </tr>\n",
       "    <tr>\n",
       "      <th>31/10/17 15:55</th>\n",
       "      <td>1808.5</td>\n",
       "      <td>1707.4</td>\n",
       "      <td>-74.242473</td>\n",
       "      <td>-71.050131</td>\n",
       "      <td>3.584242</td>\n",
       "      <td>-63.881647</td>\n",
       "      <td>-78.218615</td>\n",
       "      <td>False</td>\n",
       "      <td>False</td>\n",
       "      <td>0.0</td>\n",
       "      <td>False</td>\n",
       "      <td>True</td>\n",
       "      <td>0.0</td>\n",
       "      <td>0.0</td>\n",
       "      <td>0.0</td>\n",
       "      <td>0.0</td>\n",
       "      <td>2174.459585</td>\n",
       "    </tr>\n",
       "  </tbody>\n",
       "</table>\n",
       "</div>"
      ],
      "text/plain": [
       "                 HDFCB    HDFC     spread  moving_average  moving_std_dev  \\\n",
       "31/10/17 15:46  1808.5  1707.4 -74.242473      -71.552407        4.230629   \n",
       "31/10/17 15:48  1808.5  1707.4 -74.242473      -71.416796        4.068622   \n",
       "31/10/17 15:50  1808.5  1707.4 -74.242473      -71.268103        3.869801   \n",
       "31/10/17 15:51  1808.5  1707.4 -74.242473      -71.155527        3.725072   \n",
       "31/10/17 15:55  1808.5  1707.4 -74.242473      -71.050131        3.584242   \n",
       "\n",
       "                upper_band  lower_band  long_entry  long_exit  positions_long  \\\n",
       "31/10/17 15:46  -63.091150  -80.013665       False      False             0.0   \n",
       "31/10/17 15:48  -63.279552  -79.554039       False      False             0.0   \n",
       "31/10/17 15:50  -63.528501  -79.007705       False      False             0.0   \n",
       "31/10/17 15:51  -63.705383  -78.605671       False      False             0.0   \n",
       "31/10/17 15:55  -63.881647  -78.218615       False      False             0.0   \n",
       "\n",
       "                short_entry  short_exit  positions_short  positions  \\\n",
       "31/10/17 15:46        False        True              0.0        0.0   \n",
       "31/10/17 15:48        False        True              0.0        0.0   \n",
       "31/10/17 15:50        False        True              0.0        0.0   \n",
       "31/10/17 15:51        False        True              0.0        0.0   \n",
       "31/10/17 15:55        False        True              0.0        0.0   \n",
       "\n",
       "                spread_difference  pnl       cumpnl  \n",
       "31/10/17 15:46                0.0  0.0  2174.459585  \n",
       "31/10/17 15:48                0.0  0.0  2174.459585  \n",
       "31/10/17 15:50                0.0  0.0  2174.459585  \n",
       "31/10/17 15:51                0.0  0.0  2174.459585  \n",
       "31/10/17 15:55                0.0  0.0  2174.459585  "
      ]
     },
     "execution_count": 10,
     "metadata": {},
     "output_type": "execute_result"
    }
   ],
   "source": [
    "df['spread_difference']= df.spread - df.spread.shift(1)\n",
    "df['pnl'] = df.positions.shift(1) * df.spread_difference\n",
    "df['cumpnl'] = df.pnl.cumsum()\n",
    "df.tail()"
   ]
  },
  {
   "cell_type": "markdown",
   "metadata": {},
   "source": [
    "## Plot "
   ]
  },
  {
   "cell_type": "code",
   "execution_count": 11,
   "metadata": {},
   "outputs": [
    {
     "data": {
      "image/png": "[encoded data removed]",
      "text/plain": [
       "<Figure size 576x288 with 1 Axes>"
      ]
     },
     "metadata": {},
     "output_type": "display_data"
    },
    {
     "name": "stdout",
     "output_type": "stream",
     "text": [
      "55.936836459890124\n"
     ]
    }
   ],
   "source": [
    "df.cumpnl.plot(label='Gross PNL', figsize=(8,4))  \n",
    "plt.xlabel('Date')  \n",
    "plt.ylabel('Cumulative PnL')  \n",
    "plt.legend()  \n",
    "plt.show()\n",
    "print(2174.459585\n",
    "/3887.348163779713*100)"
   ]
  },
  {
   "cell_type": "code",
   "execution_count": 12,
   "metadata": {},
   "outputs": [],
   "source": [
    "a=df['pnl'].mean()"
   ]
  },
  {
   "cell_type": "code",
   "execution_count": 13,
   "metadata": {},
   "outputs": [],
   "source": [
    "b=df['pnl'].std()"
   ]
  },
  {
   "cell_type": "code",
   "execution_count": 14,
   "metadata": {},
   "outputs": [
    {
     "data": {
      "text/plain": [
       "7.411333444469876"
      ]
     },
     "execution_count": 14,
     "metadata": {},
     "output_type": "execute_result"
    }
   ],
   "source": [
    "a/b*301.2"
   ]
  },
  {
   "cell_type": "code",
   "execution_count": 15,
   "metadata": {},
   "outputs": [],
   "source": [
    "cnt=0\n",
    "for i in range(1,len(df.index)):\n",
    "    if df.loc[df.index[i],'positions']!=df.loc[df.index[i-1],'positions']:\n",
    "        cnt+=1"
   ]
  },
  {
   "cell_type": "code",
   "execution_count": 16,
   "metadata": {},
   "outputs": [
    {
     "data": {
      "text/plain": [
       "3023"
      ]
     },
     "execution_count": 16,
     "metadata": {},
     "output_type": "execute_result"
    }
   ],
   "source": [
    "cnt"
   ]
  },
  {
   "cell_type": "code",
   "execution_count": 19,
   "metadata": {},
   "outputs": [
    {
     "data": {
      "text/plain": [
       "2226.009989024216"
      ]
     },
     "execution_count": 19,
     "metadata": {},
     "output_type": "execute_result"
    }
   ],
   "source": [
    "(df['HDFCB'].mean()+model.params[0]*df['HDFC'].mean())*cnt*0.02/100"
   ]
  },
  {
   "cell_type": "code",
   "execution_count": 20,
   "metadata": {},
   "outputs": [
    {
     "data": {
      "text/plain": [
       "-1.3284226887922814"
      ]
     },
     "execution_count": 20,
     "metadata": {},
     "output_type": "execute_result"
    }
   ],
   "source": [
    "(2174.459585\n",
    "-2226.1)/3887.348163779713*100"
   ]
  },
  {
   "cell_type": "code",
   "execution_count": 21,
   "metadata": {},
   "outputs": [],
   "source": [
    "df.to_csv('HDFCB_backtest.csv')"
   ]
  },
  {
   "cell_type": "code",
   "execution_count": null,
   "metadata": {},
   "outputs": [],
   "source": []
  }
 ],
 "metadata": {
  "kernelspec": {
   "display_name": "Python 3",
   "language": "python",
   "name": "python3"
  },
  "language_info": {
   "codemirror_mode": {
    "name": "ipython",
    "version": 3
   },
   "file_extension": ".py",
   "mimetype": "text/x-python",
   "name": "python",
   "nbconvert_exporter": "python",
   "pygments_lexer": "ipython3",
   "version": "3.5.2"
  }
 },
 "nbformat": 4,
 "nbformat_minor": 2
}
